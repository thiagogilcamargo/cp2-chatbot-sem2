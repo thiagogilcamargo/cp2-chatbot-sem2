{
 "cells": [
  {
   "cell_type": "code",
   "execution_count": 156,
   "metadata": {},
   "outputs": [],
   "source": [
    "# Importar bibliotecas necessárias\n",
    "from prettytable import PrettyTable\n",
    "from IPython.display import display\n",
    "import pandas as pd\n",
    "import numpy as np\n",
    "import matplotlib.pyplot as plt\n",
    "import seaborn as sns\n",
    "from sklearn.model_selection import train_test_split\n",
    "from sklearn.ensemble import RandomForestClassifier\n",
    "from sklearn.metrics import accuracy_score, precision_score, recall_score, f1_score, classification_report, confusion_matrix"
   ]
  },
  {
   "cell_type": "code",
   "execution_count": 157,
   "metadata": {},
   "outputs": [],
   "source": [
    "# Carregar o conjunto de dados\n",
    "data = pd.read_csv(\"diabetes.csv\")"
   ]
  },
  {
   "cell_type": "code",
   "execution_count": 158,
   "metadata": {},
   "outputs": [],
   "source": [
    "# Verifique se há valores faltantes e, se houver, faça a imputação de médias\n",
    "if data.isnull().values.any():\n",
    "    data.fillna(data.mean(), inplace=True)"
   ]
  },
  {
   "cell_type": "code",
   "execution_count": 159,
   "metadata": {},
   "outputs": [
    {
     "name": "stdout",
     "output_type": "stream",
     "text": [
      "# Informações sobre o Conjunto de Dados\n",
      "- **Origem dos Dados:** instituto Nacional de Diabetes e Doenças Digestivas e Renais\n",
      "- **Nome do Conjunto de Dados:** Dataset Name: Pima Indians Diabetes Database\n",
      "- **Tamanho do Conjunto de Dados:** O conjunto de dados possui um total de 768 registros.\n",
      "- **Estrutura do Conjunto de Dados:** Ele é composto por 768 rows x 9 columns.\n"
     ]
    },
    {
     "data": {
      "text/html": [
       "<div>\n",
       "<style scoped>\n",
       "    .dataframe tbody tr th:only-of-type {\n",
       "        vertical-align: middle;\n",
       "    }\n",
       "\n",
       "    .dataframe tbody tr th {\n",
       "        vertical-align: top;\n",
       "    }\n",
       "\n",
       "    .dataframe thead th {\n",
       "        text-align: right;\n",
       "    }\n",
       "</style>\n",
       "<table border=\"1\" class=\"dataframe\">\n",
       "  <thead>\n",
       "    <tr style=\"text-align: right;\">\n",
       "      <th></th>\n",
       "      <th>Pregnancies</th>\n",
       "      <th>Glucose</th>\n",
       "      <th>BloodPressure</th>\n",
       "      <th>SkinThickness</th>\n",
       "      <th>Insulin</th>\n",
       "      <th>BMI</th>\n",
       "      <th>DiabetesPedigreeFunction</th>\n",
       "      <th>Age</th>\n",
       "      <th>Outcome</th>\n",
       "    </tr>\n",
       "  </thead>\n",
       "  <tbody>\n",
       "    <tr>\n",
       "      <th>0</th>\n",
       "      <td>6</td>\n",
       "      <td>148</td>\n",
       "      <td>72</td>\n",
       "      <td>35</td>\n",
       "      <td>0</td>\n",
       "      <td>33.6</td>\n",
       "      <td>0.627</td>\n",
       "      <td>50</td>\n",
       "      <td>1</td>\n",
       "    </tr>\n",
       "    <tr>\n",
       "      <th>1</th>\n",
       "      <td>1</td>\n",
       "      <td>85</td>\n",
       "      <td>66</td>\n",
       "      <td>29</td>\n",
       "      <td>0</td>\n",
       "      <td>26.6</td>\n",
       "      <td>0.351</td>\n",
       "      <td>31</td>\n",
       "      <td>0</td>\n",
       "    </tr>\n",
       "    <tr>\n",
       "      <th>2</th>\n",
       "      <td>8</td>\n",
       "      <td>183</td>\n",
       "      <td>64</td>\n",
       "      <td>0</td>\n",
       "      <td>0</td>\n",
       "      <td>23.3</td>\n",
       "      <td>0.672</td>\n",
       "      <td>32</td>\n",
       "      <td>1</td>\n",
       "    </tr>\n",
       "    <tr>\n",
       "      <th>3</th>\n",
       "      <td>1</td>\n",
       "      <td>89</td>\n",
       "      <td>66</td>\n",
       "      <td>23</td>\n",
       "      <td>94</td>\n",
       "      <td>28.1</td>\n",
       "      <td>0.167</td>\n",
       "      <td>21</td>\n",
       "      <td>0</td>\n",
       "    </tr>\n",
       "    <tr>\n",
       "      <th>4</th>\n",
       "      <td>0</td>\n",
       "      <td>137</td>\n",
       "      <td>40</td>\n",
       "      <td>35</td>\n",
       "      <td>168</td>\n",
       "      <td>43.1</td>\n",
       "      <td>2.288</td>\n",
       "      <td>33</td>\n",
       "      <td>1</td>\n",
       "    </tr>\n",
       "  </tbody>\n",
       "</table>\n",
       "</div>"
      ],
      "text/plain": [
       "   Pregnancies  Glucose  BloodPressure  SkinThickness  Insulin   BMI   \n",
       "0            6      148             72             35        0  33.6  \\\n",
       "1            1       85             66             29        0  26.6   \n",
       "2            8      183             64              0        0  23.3   \n",
       "3            1       89             66             23       94  28.1   \n",
       "4            0      137             40             35      168  43.1   \n",
       "\n",
       "   DiabetesPedigreeFunction  Age  Outcome  \n",
       "0                     0.627   50        1  \n",
       "1                     0.351   31        0  \n",
       "2                     0.672   32        1  \n",
       "3                     0.167   21        0  \n",
       "4                     2.288   33        1  "
      ]
     },
     "metadata": {},
     "output_type": "display_data"
    }
   ],
   "source": [
    "# Dataset Information\n",
    "origin = \"instituto Nacional de Diabetes e Doenças Digestivas e Renais\"\n",
    "name = \"Dataset Name: Pima Indians Diabetes Database\"\n",
    "size = data.shape\n",
    "record_count = data.shape[0]\n",
    "rows_columns = f\"{data.shape[0]} rows x {data.shape[1]} columns\"\n",
    "\n",
    "print(\"# Informações sobre o Conjunto de Dados\")\n",
    "print(\"- **Origem dos Dados:**\", origin)\n",
    "print(\"- **Nome do Conjunto de Dados:**\", name)\n",
    "print(\"- **Tamanho do Conjunto de Dados:** O conjunto de dados possui um total de\", record_count, \"registros.\")\n",
    "print(\"- **Estrutura do Conjunto de Dados:** Ele é composto por\", rows_columns + \".\")\n",
    "\n",
    "# Exibir as primeiras 5 linhas do conjunto de dados de forma mais legível\n",
    "display(data.head())\n"
   ]
  },
  {
   "cell_type": "code",
   "execution_count": 160,
   "metadata": {},
   "outputs": [],
   "source": [
    "# Separar variáveis independentes (X) e variável de destino (y)\n",
    "X = data.drop('Outcome', axis=1)\n",
    "y = data['Outcome']"
   ]
  },
  {
   "cell_type": "code",
   "execution_count": 161,
   "metadata": {},
   "outputs": [],
   "source": [
    "# Dividir o conjunto de dados em treinamento e teste\n",
    "X_train, X_test, y_train, y_test = train_test_split(X, y, test_size=0.2, random_state=42)"
   ]
  },
  {
   "cell_type": "code",
   "execution_count": 162,
   "metadata": {},
   "outputs": [
    {
     "data": {
      "text/html": [
       "<style>#sk-container-id-16 {color: black;}#sk-container-id-16 pre{padding: 0;}#sk-container-id-16 div.sk-toggleable {background-color: white;}#sk-container-id-16 label.sk-toggleable__label {cursor: pointer;display: block;width: 100%;margin-bottom: 0;padding: 0.3em;box-sizing: border-box;text-align: center;}#sk-container-id-16 label.sk-toggleable__label-arrow:before {content: \"▸\";float: left;margin-right: 0.25em;color: #696969;}#sk-container-id-16 label.sk-toggleable__label-arrow:hover:before {color: black;}#sk-container-id-16 div.sk-estimator:hover label.sk-toggleable__label-arrow:before {color: black;}#sk-container-id-16 div.sk-toggleable__content {max-height: 0;max-width: 0;overflow: hidden;text-align: left;background-color: #f0f8ff;}#sk-container-id-16 div.sk-toggleable__content pre {margin: 0.2em;color: black;border-radius: 0.25em;background-color: #f0f8ff;}#sk-container-id-16 input.sk-toggleable__control:checked~div.sk-toggleable__content {max-height: 200px;max-width: 100%;overflow: auto;}#sk-container-id-16 input.sk-toggleable__control:checked~label.sk-toggleable__label-arrow:before {content: \"▾\";}#sk-container-id-16 div.sk-estimator input.sk-toggleable__control:checked~label.sk-toggleable__label {background-color: #d4ebff;}#sk-container-id-16 div.sk-label input.sk-toggleable__control:checked~label.sk-toggleable__label {background-color: #d4ebff;}#sk-container-id-16 input.sk-hidden--visually {border: 0;clip: rect(1px 1px 1px 1px);clip: rect(1px, 1px, 1px, 1px);height: 1px;margin: -1px;overflow: hidden;padding: 0;position: absolute;width: 1px;}#sk-container-id-16 div.sk-estimator {font-family: monospace;background-color: #f0f8ff;border: 1px dotted black;border-radius: 0.25em;box-sizing: border-box;margin-bottom: 0.5em;}#sk-container-id-16 div.sk-estimator:hover {background-color: #d4ebff;}#sk-container-id-16 div.sk-parallel-item::after {content: \"\";width: 100%;border-bottom: 1px solid gray;flex-grow: 1;}#sk-container-id-16 div.sk-label:hover label.sk-toggleable__label {background-color: #d4ebff;}#sk-container-id-16 div.sk-serial::before {content: \"\";position: absolute;border-left: 1px solid gray;box-sizing: border-box;top: 0;bottom: 0;left: 50%;z-index: 0;}#sk-container-id-16 div.sk-serial {display: flex;flex-direction: column;align-items: center;background-color: white;padding-right: 0.2em;padding-left: 0.2em;position: relative;}#sk-container-id-16 div.sk-item {position: relative;z-index: 1;}#sk-container-id-16 div.sk-parallel {display: flex;align-items: stretch;justify-content: center;background-color: white;position: relative;}#sk-container-id-16 div.sk-item::before, #sk-container-id-16 div.sk-parallel-item::before {content: \"\";position: absolute;border-left: 1px solid gray;box-sizing: border-box;top: 0;bottom: 0;left: 50%;z-index: -1;}#sk-container-id-16 div.sk-parallel-item {display: flex;flex-direction: column;z-index: 1;position: relative;background-color: white;}#sk-container-id-16 div.sk-parallel-item:first-child::after {align-self: flex-end;width: 50%;}#sk-container-id-16 div.sk-parallel-item:last-child::after {align-self: flex-start;width: 50%;}#sk-container-id-16 div.sk-parallel-item:only-child::after {width: 0;}#sk-container-id-16 div.sk-dashed-wrapped {border: 1px dashed gray;margin: 0 0.4em 0.5em 0.4em;box-sizing: border-box;padding-bottom: 0.4em;background-color: white;}#sk-container-id-16 div.sk-label label {font-family: monospace;font-weight: bold;display: inline-block;line-height: 1.2em;}#sk-container-id-16 div.sk-label-container {text-align: center;}#sk-container-id-16 div.sk-container {/* jupyter's `normalize.less` sets `[hidden] { display: none; }` but bootstrap.min.css set `[hidden] { display: none !important; }` so we also need the `!important` here to be able to override the default hidden behavior on the sphinx rendered scikit-learn.org. See: https://github.com/scikit-learn/scikit-learn/issues/21755 */display: inline-block !important;position: relative;}#sk-container-id-16 div.sk-text-repr-fallback {display: none;}</style><div id=\"sk-container-id-16\" class=\"sk-top-container\"><div class=\"sk-text-repr-fallback\"><pre>RandomForestClassifier(random_state=42)</pre><b>In a Jupyter environment, please rerun this cell to show the HTML representation or trust the notebook. <br />On GitHub, the HTML representation is unable to render, please try loading this page with nbviewer.org.</b></div><div class=\"sk-container\" hidden><div class=\"sk-item\"><div class=\"sk-estimator sk-toggleable\"><input class=\"sk-toggleable__control sk-hidden--visually\" id=\"sk-estimator-id-16\" type=\"checkbox\" checked><label for=\"sk-estimator-id-16\" class=\"sk-toggleable__label sk-toggleable__label-arrow\">RandomForestClassifier</label><div class=\"sk-toggleable__content\"><pre>RandomForestClassifier(random_state=42)</pre></div></div></div></div></div>"
      ],
      "text/plain": [
       "RandomForestClassifier(random_state=42)"
      ]
     },
     "execution_count": 162,
     "metadata": {},
     "output_type": "execute_result"
    }
   ],
   "source": [
    "# Construir o modelo\n",
    "model1 = RandomForestClassifier(random_state=42)\n",
    "model1.fit(X_train, y_train)"
   ]
  },
  {
   "cell_type": "code",
   "execution_count": 163,
   "metadata": {},
   "outputs": [],
   "source": [
    "# Avaliar o modelo\n",
    "y_pred = model1.predict(X_test)\n",
    "accuracy = accuracy_score(y_test, y_pred)\n",
    "precision = precision_score(y_test, y_pred)\n",
    "recall = recall_score(y_test, y_pred)\n",
    "f1 = f1_score(y_test, y_pred)"
   ]
  },
  {
   "cell_type": "code",
   "execution_count": 164,
   "metadata": {},
   "outputs": [
    {
     "name": "stdout",
     "output_type": "stream",
     "text": [
      "Acurácia: 0.7207792207792207\n",
      "Precisão: 0.6071428571428571\n",
      "Recall: 0.6181818181818182\n",
      "F1-Score: 0.6126126126126126\n",
      "\n",
      "O modelo tem um recall razoável, indicando que é capaz de identificar a maioria dos casos reais de diabetes.\n",
      "A precisão do modelo é razoável, o que significa que a maioria das previsões de diabetes está correta.\n",
      "A acurácia geral do modelo é razoável, indicando que ele faz previsões corretas na maioria dos casos.\n"
     ]
    }
   ],
   "source": [
    "# Apresentar as métricas\n",
    "print(\"Acurácia:\", accuracy)\n",
    "print(\"Precisão:\", precision)\n",
    "print(\"Recall:\", recall)\n",
    "print(\"F1-Score:\", f1) \n",
    "\n",
    "# Comentários e análise das métricas\n",
    "if recall > 0.5:\n",
    "    print(\"\\nO modelo tem um recall razoável, indicando que é capaz de identificar a maioria dos casos reais de diabetes.\")\n",
    "else:\n",
    "    print(\"\\nO recall do modelo é um pouco baixo, o que significa que ele pode perder alguns casos reais de diabetes.\")\n",
    "\n",
    "if precision > 0.5:\n",
    "    print(\"A precisão do modelo é razoável, o que significa que a maioria das previsões de diabetes está correta.\")\n",
    "else:\n",
    "    print(\"A precisão do modelo é um pouco baixa, o que significa que algumas previsões de diabetes podem ser incorretas.\")\n",
    "\n",
    "if accuracy > 0.7:\n",
    "    print(\"A acurácia geral do modelo é razoável, indicando que ele faz previsões corretas na maioria dos casos.\")\n",
    "else:\n",
    "    print(\"A acurácia do modelo é um pouco baixa, e pode haver espaço para melhorias no desempenho geral.\")"
   ]
  },
  {
   "cell_type": "code",
   "execution_count": 165,
   "metadata": {},
   "outputs": [
    {
     "data": {
      "image/png": "[encoded data removed]",
      "text/plain": [
       "<Figure size 800x600 with 1 Axes>"
      ]
     },
     "metadata": {},
     "output_type": "display_data"
    },
    {
     "name": "stdout",
     "output_type": "stream",
     "text": [
      "Comentários e Interpretação dos Resultados da Matriz de Confusão:\n",
      "Previsto Negativo (VN): 77 casos verdadeiros negativos, ou seja, o modelo previu corretamente 77 casos que realmente não têm diabetes.\n",
      "Previsto Positivo (FP): 22 casos falsos positivos, o modelo previu incorretamente 22 casos como positivos, mas eles são negativos na realidade.\n",
      "VN (Real Negativo): 21 casos verdadeiros negativos, que são os casos corretamente classificados como negativos.\n",
      "FP (Real Positivo): 34 casos verdadeiros positivos, que são os casos corretamente classificados como positivos.\n",
      "A matriz de confusão mostra como o modelo está performando na previsão de diabetes. A alta quantidade de VN e FP indicam que o modelo está fazendo um bom trabalho em identificar pacientes que realmente não têm diabetes (Negativos). No entanto, o número de FP também é significativo, o que significa que o modelo está cometendo erros ao prever casos positivos que na verdade são negativos. Essa é uma área em que o modelo pode ser aprimorado.\n"
     ]
    }
   ],
   "source": [
    "# Plotar a Matriz de Confusão\n",
    "confusion = confusion_matrix(y_test, y_pred)\n",
    "\n",
    "# Criar um gráfico de calor (heatmap) para visualizar a matriz de confusão\n",
    "plt.figure(figsize=(8, 6))\n",
    "sns.heatmap(confusion, annot=True, fmt='d', cmap='Blues', cbar=False, \n",
    "            xticklabels=['Previsto Negativo', 'Previsto Positivo'],\n",
    "            yticklabels=['Real Negativo', 'Real Positivo'])\n",
    "plt.title(\"Matriz de Confusão\")\n",
    "plt.xlabel(\"Predições\")\n",
    "plt.ylabel(\"Real\")\n",
    "plt.show()\n",
    "\n",
    "# Comentários e Interpretação dos Resultados da Matriz de Confusão:\n",
    "print(\"Comentários e Interpretação dos Resultados da Matriz de Confusão:\")\n",
    "print(\"Previsto Negativo (VN): 77 casos verdadeiros negativos, ou seja, o modelo previu corretamente 77 casos que realmente não têm diabetes.\")\n",
    "print(\"Previsto Positivo (FP): 22 casos falsos positivos, o modelo previu incorretamente 22 casos como positivos, mas eles são negativos na realidade.\")\n",
    "print(\"VN (Real Negativo): 21 casos verdadeiros negativos, que são os casos corretamente classificados como negativos.\")\n",
    "print(\"FP (Real Positivo): 34 casos verdadeiros positivos, que são os casos corretamente classificados como positivos.\")\n",
    "print(\"A matriz de confusão mostra como o modelo está performando na previsão de diabetes. A alta quantidade de VN e FP indicam que o modelo está fazendo um bom trabalho em identificar pacientes que realmente não têm diabetes (Negativos). No entanto, o número de FP também é significativo, o que significa que o modelo está cometendo erros ao prever casos positivos que na verdade são negativos. Essa é uma área em que o modelo pode ser aprimorado.\")\n"
   ]
  },
  {
   "cell_type": "code",
   "execution_count": 166,
   "metadata": {},
   "outputs": [
    {
     "name": "stdout",
     "output_type": "stream",
     "text": [
      "Relatório de Classificação:\n",
      "+-----------+---------------------+---------------------+\n",
      "|  Métrica  | Classe 0 (Negativo) | Classe 1 (Positivo) |\n",
      "+-----------+---------------------+---------------------+\n",
      "| precision |  0.7857142857142857 |  0.6071428571428571 |\n",
      "|   recall  |  0.7777777777777778 |  0.6181818181818182 |\n",
      "|  f1-score |  0.7817258883248731 |  0.6126126126126126 |\n",
      "|  support  |         99.0        |         55.0        |\n",
      "+-----------+---------------------+---------------------+\n",
      "\n",
      "Resultados do Relatório de Classificação:\n",
      "A precisão (precision) mede a proporção de verdadeiros positivos em relação a todos os positivos previstos.\n",
      "Para a classe 0 (Negativo), a precisão é de aproximadamente 78.57%, indicando que o modelo acerta a previsão de casos negativos em cerca de 78.57% das vezes.\n",
      "Para a classe 1 (Positivo), a precisão é de aproximadamente 60.71%, o que significa que o modelo acerta a previsão de casos positivos em cerca de 60.71% das vezes.\n",
      "\n",
      "O recall (revocação) mede a proporção de verdadeiros positivos em relação a todos os positivos reais.\n",
      "Para a classe 0 (Negativo), o recall é de aproximadamente 77.78%, o que indica que o modelo identifica corretamente cerca de 77.78% dos casos negativos.\n",
      "Para a classe 1 (Positivo), o recall é de aproximadamente 61.82%, o que demonstra que o modelo identifica cerca de 61.82% dos casos positivos.\n",
      "\n",
      "O F1-Score é a média harmônica entre precisão e recall, oferecendo um equilíbrio entre essas métricas.\n",
      "Para a classe 0 (Negativo), o F1-Score é de aproximadamente 78.17%, indicando um equilíbrio entre precisão e recall.\n",
      "Para a classe 1 (Positivo), o F1-Score é de aproximadamente 61.26%, demonstrando um equilíbrio semelhante.\n",
      "\n",
      "O suporte (support) representa o número de ocorrências de cada classe no conjunto de teste.\n",
      "Há 99 casos da classe 0 (Negativo) e 55 casos da classe 1 (Positivo) no conjunto de teste.\n"
     ]
    }
   ],
   "source": [
    "# Apresentar o relatório de classificação em uma tabela\n",
    "classification = classification_report(y_test, y_pred, output_dict=True)\n",
    "\n",
    "table = PrettyTable()\n",
    "table.field_names = [\"Métrica\", \"Classe 0 (Negativo)\", \"Classe 1 (Positivo)\"]\n",
    "\n",
    "metrics = [\"precision\", \"recall\", \"f1-score\", \"support\"]\n",
    "\n",
    "for metric in metrics:\n",
    "    table.add_row([metric, classification[\"0\"][metric], classification[\"1\"][metric]])\n",
    "\n",
    "print(\"Relatório de Classificação:\")\n",
    "print(table)\n",
    "\n",
    "# Comentários dos Resultados do Relatório de Classificação\n",
    "print(\"\\nResultados do Relatório de Classificação:\")\n",
    "print(\"A precisão (precision) mede a proporção de verdadeiros positivos em relação a todos os positivos previstos.\")\n",
    "print(\"Para a classe 0 (Negativo), a precisão é de aproximadamente 78.57%, indicando que o modelo acerta a previsão de casos negativos em cerca de 78.57% das vezes.\")\n",
    "print(\"Para a classe 1 (Positivo), a precisão é de aproximadamente 60.71%, o que significa que o modelo acerta a previsão de casos positivos em cerca de 60.71% das vezes.\")\n",
    "\n",
    "print(\"\\nO recall (revocação) mede a proporção de verdadeiros positivos em relação a todos os positivos reais.\")\n",
    "print(\"Para a classe 0 (Negativo), o recall é de aproximadamente 77.78%, o que indica que o modelo identifica corretamente cerca de 77.78% dos casos negativos.\")\n",
    "print(\"Para a classe 1 (Positivo), o recall é de aproximadamente 61.82%, o que demonstra que o modelo identifica cerca de 61.82% dos casos positivos.\")\n",
    "\n",
    "print(\"\\nO F1-Score é a média harmônica entre precisão e recall, oferecendo um equilíbrio entre essas métricas.\")\n",
    "print(\"Para a classe 0 (Negativo), o F1-Score é de aproximadamente 78.17%, indicando um equilíbrio entre precisão e recall.\")\n",
    "print(\"Para a classe 1 (Positivo), o F1-Score é de aproximadamente 61.26%, demonstrando um equilíbrio semelhante.\")\n",
    "\n",
    "print(\"\\nO suporte (support) representa o número de ocorrências de cada classe no conjunto de teste.\")\n",
    "print(\"Há 99 casos da classe 0 (Negativo) e 55 casos da classe 1 (Positivo) no conjunto de teste.\")\n",
    "\n"
   ]
  },
  {
   "cell_type": "code",
   "execution_count": 167,
   "metadata": {},
   "outputs": [
    {
     "name": "stdout",
     "output_type": "stream",
     "text": [
      "\n",
      "## Conclusão\n",
      "\n",
      "O Modelo 2 foi desenvolvido com o objetivo de prever se um paciente tem diabetes com base em dados clínicos, incluindo o número de gestações, nível de glicose, pressão sanguínea, espessura da pele, nível de insulina, índice de massa corporal (IMC), função de pedigree de diabetes e idade. O conjunto de dados utilizado é o \"Diabetes Prediction Dataset\" e é composto por 768 registros.\n",
      "\n",
      "Inicialmente, o conjunto de dados foi carregado e analisado. Não foram identificados dados faltantes após a imputação de médias. As variáveis independentes (X) e a variável de destino (y) foram separadas, e o conjunto de dados foi dividido em treinamento e teste.\n",
      "\n",
      "Um modelo de classificação baseado em Random Forest foi construído e avaliado. As métricas de desempenho, incluindo acurácia, precisão, recall e F1-Score, foram calculadas. O modelo obteve uma acurácia de aproximadamente 72.08%, uma precisão de 60.71%, um recall de 61.82% e um F1-Score de 61.26%. \n",
      "\n",
      "A análise das métricas revelou que o modelo tem um desempenho razoável. O recall é especialmente importante neste contexto, pois é crucial identificar pacientes com diabetes. O modelo consegue identificar a maioria dos casos reais de diabetes, mas ainda existe espaço para melhorias, especialmente na redução de falsos positivos.\n",
      "\n",
      "A matriz de confusão também foi apresentada, destacando a quantidade de verdadeiros negativos, falsos positivos, verdadeiros positivos e falsos negativos. A interpretação desses resultados indicou que o modelo está fazendo um bom trabalho em identificar pacientes que realmente não têm diabetes, mas ainda comete alguns erros ao prever casos positivos que na verdade são negativos.\n",
      "\n",
      "Em resumo, o Modelo 2 é uma ferramenta promissora para prever a ocorrência de diabetes em pacientes com base em dados clínicos. No entanto, o modelo pode ser aprimorado para reduzir os falsos positivos e melhorar ainda mais o recall. Isso poderia ser alcançado com técnicas avançadas de modelagem e mais dados. \n",
      "\n",
      "O uso deste modelo pode ajudar na identificação precoce de casos de diabetes, possibilitando intervenções médicas mais oportunas e melhorias na qualidade de vida dos pacientes.\n",
      "\n"
     ]
    }
   ],
   "source": [
    "conclusao = \"\"\"\n",
    "## Conclusão\n",
    "\n",
    "O Modelo 2 foi desenvolvido com o objetivo de prever se um paciente tem diabetes com base em dados clínicos, incluindo o número de gestações, nível de glicose, pressão sanguínea, espessura da pele, nível de insulina, índice de massa corporal (IMC), função de pedigree de diabetes e idade. O conjunto de dados utilizado é o \"Diabetes Prediction Dataset\" e é composto por 768 registros.\n",
    "\n",
    "Inicialmente, o conjunto de dados foi carregado e analisado. Não foram identificados dados faltantes após a imputação de médias. As variáveis independentes (X) e a variável de destino (y) foram separadas, e o conjunto de dados foi dividido em treinamento e teste.\n",
    "\n",
    "Um modelo de classificação baseado em Random Forest foi construído e avaliado. As métricas de desempenho, incluindo acurácia, precisão, recall e F1-Score, foram calculadas. O modelo obteve uma acurácia de aproximadamente 72.08%, uma precisão de 60.71%, um recall de 61.82% e um F1-Score de 61.26%. \n",
    "\n",
    "A análise das métricas revelou que o modelo tem um desempenho razoável. O recall é especialmente importante neste contexto, pois é crucial identificar pacientes com diabetes. O modelo consegue identificar a maioria dos casos reais de diabetes, mas ainda existe espaço para melhorias, especialmente na redução de falsos positivos.\n",
    "\n",
    "A matriz de confusão também foi apresentada, destacando a quantidade de verdadeiros negativos, falsos positivos, verdadeiros positivos e falsos negativos. A interpretação desses resultados indicou que o modelo está fazendo um bom trabalho em identificar pacientes que realmente não têm diabetes, mas ainda comete alguns erros ao prever casos positivos que na verdade são negativos.\n",
    "\n",
    "Em resumo, o Modelo 2 é uma ferramenta promissora para prever a ocorrência de diabetes em pacientes com base em dados clínicos. No entanto, o modelo pode ser aprimorado para reduzir os falsos positivos e melhorar ainda mais o recall. Isso poderia ser alcançado com técnicas avançadas de modelagem e mais dados. \n",
    "\n",
    "O uso deste modelo pode ajudar na identificação precoce de casos de diabetes, possibilitando intervenções médicas mais oportunas e melhorias na qualidade de vida dos pacientes.\n",
    "\"\"\"\n",
    "print(conclusao)\n"
   ]
  }
 ],
 "metadata": {
  "kernelspec": {
   "display_name": "Python 3",
   "language": "python",
   "name": "python3"
  },
  "language_info": {
   "codemirror_mode": {
    "name": "ipython",
    "version": 3
   },
   "file_extension": ".py",
   "mimetype": "text/x-python",
   "name": "python",
   "nbconvert_exporter": "python",
   "pygments_lexer": "ipython3",
   "version": "3.10.10"
  }
 },
 "nbformat": 4,
 "nbformat_minor": 2
}
