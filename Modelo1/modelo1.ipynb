{
 "cells": [
  {
   "cell_type": "code",
   "execution_count": 405,
   "metadata": {},
   "outputs": [],
   "source": [
    "# Importar as bibliotecas necessárias\n",
    "import numpy as np\n",
    "import pandas as pd\n",
    "from IPython.display import display\n",
    "import matplotlib.pyplot as plt\n",
    "from sklearn.model_selection import train_test_split\n",
    "from sklearn.preprocessing import StandardScaler\n",
    "from sklearn.ensemble import RandomForestClassifier\n",
    "from sklearn.metrics import accuracy_score, precision_score, recall_score, f1_score, confusion_matrix, classification_report"
   ]
  },
  {
   "cell_type": "code",
   "execution_count": 406,
   "metadata": {},
   "outputs": [],
   "source": [
    "#pip install scikit-learn\n"
   ]
  },
  {
   "cell_type": "code",
   "execution_count": 407,
   "metadata": {},
   "outputs": [],
   "source": [
    "# Carregar o conjunto de dados\n",
    "data = pd.read_csv('WA_Fn-UseC_-Telco-Customer-Churn.csv')"
   ]
  },
  {
   "cell_type": "code",
   "execution_count": 408,
   "metadata": {},
   "outputs": [
    {
     "data": {
      "text/html": [
       "<div>\n",
       "<style scoped>\n",
       "    .dataframe tbody tr th:only-of-type {\n",
       "        vertical-align: middle;\n",
       "    }\n",
       "\n",
       "    .dataframe tbody tr th {\n",
       "        vertical-align: top;\n",
       "    }\n",
       "\n",
       "    .dataframe thead th {\n",
       "        text-align: right;\n",
       "    }\n",
       "</style>\n",
       "<table border=\"1\" class=\"dataframe\">\n",
       "  <thead>\n",
       "    <tr style=\"text-align: right;\">\n",
       "      <th></th>\n",
       "      <th>customerID</th>\n",
       "      <th>gender</th>\n",
       "      <th>SeniorCitizen</th>\n",
       "      <th>Partner</th>\n",
       "      <th>Dependents</th>\n",
       "      <th>tenure</th>\n",
       "      <th>PhoneService</th>\n",
       "      <th>MultipleLines</th>\n",
       "      <th>InternetService</th>\n",
       "      <th>OnlineSecurity</th>\n",
       "      <th>...</th>\n",
       "      <th>DeviceProtection</th>\n",
       "      <th>TechSupport</th>\n",
       "      <th>StreamingTV</th>\n",
       "      <th>StreamingMovies</th>\n",
       "      <th>Contract</th>\n",
       "      <th>PaperlessBilling</th>\n",
       "      <th>PaymentMethod</th>\n",
       "      <th>MonthlyCharges</th>\n",
       "      <th>TotalCharges</th>\n",
       "      <th>Churn</th>\n",
       "    </tr>\n",
       "  </thead>\n",
       "  <tbody>\n",
       "    <tr>\n",
       "      <th>0</th>\n",
       "      <td>7590-VHVEG</td>\n",
       "      <td>Female</td>\n",
       "      <td>0</td>\n",
       "      <td>Yes</td>\n",
       "      <td>No</td>\n",
       "      <td>1</td>\n",
       "      <td>No</td>\n",
       "      <td>No phone service</td>\n",
       "      <td>DSL</td>\n",
       "      <td>No</td>\n",
       "      <td>...</td>\n",
       "      <td>No</td>\n",
       "      <td>No</td>\n",
       "      <td>No</td>\n",
       "      <td>No</td>\n",
       "      <td>Month-to-month</td>\n",
       "      <td>Yes</td>\n",
       "      <td>Electronic check</td>\n",
       "      <td>29.85</td>\n",
       "      <td>29.85</td>\n",
       "      <td>No</td>\n",
       "    </tr>\n",
       "    <tr>\n",
       "      <th>1</th>\n",
       "      <td>5575-GNVDE</td>\n",
       "      <td>Male</td>\n",
       "      <td>0</td>\n",
       "      <td>No</td>\n",
       "      <td>No</td>\n",
       "      <td>34</td>\n",
       "      <td>Yes</td>\n",
       "      <td>No</td>\n",
       "      <td>DSL</td>\n",
       "      <td>Yes</td>\n",
       "      <td>...</td>\n",
       "      <td>Yes</td>\n",
       "      <td>No</td>\n",
       "      <td>No</td>\n",
       "      <td>No</td>\n",
       "      <td>One year</td>\n",
       "      <td>No</td>\n",
       "      <td>Mailed check</td>\n",
       "      <td>56.95</td>\n",
       "      <td>1889.5</td>\n",
       "      <td>No</td>\n",
       "    </tr>\n",
       "    <tr>\n",
       "      <th>2</th>\n",
       "      <td>3668-QPYBK</td>\n",
       "      <td>Male</td>\n",
       "      <td>0</td>\n",
       "      <td>No</td>\n",
       "      <td>No</td>\n",
       "      <td>2</td>\n",
       "      <td>Yes</td>\n",
       "      <td>No</td>\n",
       "      <td>DSL</td>\n",
       "      <td>Yes</td>\n",
       "      <td>...</td>\n",
       "      <td>No</td>\n",
       "      <td>No</td>\n",
       "      <td>No</td>\n",
       "      <td>No</td>\n",
       "      <td>Month-to-month</td>\n",
       "      <td>Yes</td>\n",
       "      <td>Mailed check</td>\n",
       "      <td>53.85</td>\n",
       "      <td>108.15</td>\n",
       "      <td>Yes</td>\n",
       "    </tr>\n",
       "    <tr>\n",
       "      <th>3</th>\n",
       "      <td>7795-CFOCW</td>\n",
       "      <td>Male</td>\n",
       "      <td>0</td>\n",
       "      <td>No</td>\n",
       "      <td>No</td>\n",
       "      <td>45</td>\n",
       "      <td>No</td>\n",
       "      <td>No phone service</td>\n",
       "      <td>DSL</td>\n",
       "      <td>Yes</td>\n",
       "      <td>...</td>\n",
       "      <td>Yes</td>\n",
       "      <td>Yes</td>\n",
       "      <td>No</td>\n",
       "      <td>No</td>\n",
       "      <td>One year</td>\n",
       "      <td>No</td>\n",
       "      <td>Bank transfer (automatic)</td>\n",
       "      <td>42.30</td>\n",
       "      <td>1840.75</td>\n",
       "      <td>No</td>\n",
       "    </tr>\n",
       "    <tr>\n",
       "      <th>4</th>\n",
       "      <td>9237-HQITU</td>\n",
       "      <td>Female</td>\n",
       "      <td>0</td>\n",
       "      <td>No</td>\n",
       "      <td>No</td>\n",
       "      <td>2</td>\n",
       "      <td>Yes</td>\n",
       "      <td>No</td>\n",
       "      <td>Fiber optic</td>\n",
       "      <td>No</td>\n",
       "      <td>...</td>\n",
       "      <td>No</td>\n",
       "      <td>No</td>\n",
       "      <td>No</td>\n",
       "      <td>No</td>\n",
       "      <td>Month-to-month</td>\n",
       "      <td>Yes</td>\n",
       "      <td>Electronic check</td>\n",
       "      <td>70.70</td>\n",
       "      <td>151.65</td>\n",
       "      <td>Yes</td>\n",
       "    </tr>\n",
       "  </tbody>\n",
       "</table>\n",
       "<p>5 rows × 21 columns</p>\n",
       "</div>"
      ],
      "text/plain": [
       "   customerID  gender  SeniorCitizen Partner Dependents  tenure PhoneService   \n",
       "0  7590-VHVEG  Female              0     Yes         No       1           No  \\\n",
       "1  5575-GNVDE    Male              0      No         No      34          Yes   \n",
       "2  3668-QPYBK    Male              0      No         No       2          Yes   \n",
       "3  7795-CFOCW    Male              0      No         No      45           No   \n",
       "4  9237-HQITU  Female              0      No         No       2          Yes   \n",
       "\n",
       "      MultipleLines InternetService OnlineSecurity  ... DeviceProtection   \n",
       "0  No phone service             DSL             No  ...               No  \\\n",
       "1                No             DSL            Yes  ...              Yes   \n",
       "2                No             DSL            Yes  ...               No   \n",
       "3  No phone service             DSL            Yes  ...              Yes   \n",
       "4                No     Fiber optic             No  ...               No   \n",
       "\n",
       "  TechSupport StreamingTV StreamingMovies        Contract PaperlessBilling   \n",
       "0          No          No              No  Month-to-month              Yes  \\\n",
       "1          No          No              No        One year               No   \n",
       "2          No          No              No  Month-to-month              Yes   \n",
       "3         Yes          No              No        One year               No   \n",
       "4          No          No              No  Month-to-month              Yes   \n",
       "\n",
       "               PaymentMethod MonthlyCharges  TotalCharges Churn  \n",
       "0           Electronic check          29.85         29.85    No  \n",
       "1               Mailed check          56.95        1889.5    No  \n",
       "2               Mailed check          53.85        108.15   Yes  \n",
       "3  Bank transfer (automatic)          42.30       1840.75    No  \n",
       "4           Electronic check          70.70        151.65   Yes  \n",
       "\n",
       "[5 rows x 21 columns]"
      ]
     },
     "metadata": {},
     "output_type": "display_data"
    },
    {
     "name": "stdout",
     "output_type": "stream",
     "text": [
      "Informações sobre o Conjunto de Dados:\n",
      "Origem: Este conjunto de dados foi coletado da Empresa XYZ Telecom, que atua no setor de telecomunicações.\n",
      "Nome: Telco Customer Churn\n",
      "Tamanho: O conjunto de dados contém 7043 registros e 21 colunas.\n",
      "Quantidade de Registros: Existem 7043 registros no conjunto de dados, representando clientes da empresa.\n",
      "Linhas x Colunas: O conjunto de dados possui 7043 linhas x 21 colunas.\n",
      "\n",
      "Dados Faltantes:\n",
      "customerID: 0 dados faltantes\n",
      "gender: 0 dados faltantes\n",
      "SeniorCitizen: 0 dados faltantes\n",
      "Partner: 0 dados faltantes\n",
      "Dependents: 0 dados faltantes\n",
      "tenure: 0 dados faltantes\n",
      "PhoneService: 0 dados faltantes\n",
      "MultipleLines: 0 dados faltantes\n",
      "InternetService: 0 dados faltantes\n",
      "OnlineSecurity: 0 dados faltantes\n",
      "OnlineBackup: 0 dados faltantes\n",
      "DeviceProtection: 0 dados faltantes\n",
      "TechSupport: 0 dados faltantes\n",
      "StreamingTV: 0 dados faltantes\n",
      "StreamingMovies: 0 dados faltantes\n",
      "Contract: 0 dados faltantes\n",
      "PaperlessBilling: 0 dados faltantes\n",
      "PaymentMethod: 0 dados faltantes\n",
      "MonthlyCharges: 0 dados faltantes\n",
      "TotalCharges: 0 dados faltantes\n",
      "Churn: 0 dados faltantes\n",
      "\n",
      "Dados Faltantes após tratamento:\n",
      "customerID: 0 dados faltantes\n",
      "gender: 0 dados faltantes\n",
      "SeniorCitizen: 0 dados faltantes\n",
      "Partner: 0 dados faltantes\n",
      "Dependents: 0 dados faltantes\n",
      "tenure: 0 dados faltantes\n",
      "PhoneService: 0 dados faltantes\n",
      "MultipleLines: 0 dados faltantes\n",
      "InternetService: 0 dados faltantes\n",
      "OnlineSecurity: 0 dados faltantes\n",
      "OnlineBackup: 0 dados faltantes\n",
      "DeviceProtection: 0 dados faltantes\n",
      "TechSupport: 0 dados faltantes\n",
      "StreamingTV: 0 dados faltantes\n",
      "StreamingMovies: 0 dados faltantes\n",
      "Contract: 0 dados faltantes\n",
      "PaperlessBilling: 0 dados faltantes\n",
      "PaymentMethod: 0 dados faltantes\n",
      "MonthlyCharges: 0 dados faltantes\n",
      "TotalCharges: 0 dados faltantes\n",
      "Churn: 0 dados faltantes\n"
     ]
    }
   ],
   "source": [
    "# Melhorando a exibição das primeiras linhas do conjunto de dados\n",
    "from IPython.display import display\n",
    "\n",
    "# Exibir as primeiras 5 linhas do conjunto de dados de forma mais legível\n",
    "display(data.head())\n",
    "\n",
    "# Informações sobre o conjunto de dados\n",
    "origem = \"Empresa XYZ Telecom\"\n",
    "nome = \"Telco Customer Churn\"\n",
    "tamanho = data.shape\n",
    "quantidade_registros = data.shape[0]\n",
    "linhas_colunas = f\"{data.shape[0]} linhas x {data.shape[1]} colunas\"\n",
    "\n",
    "# Verificar dados faltantes\n",
    "dados_faltantes = data.isnull().sum()\n",
    "# Tratar valores faltantes na coluna 'TotalCharges'\n",
    "data['TotalCharges'] = pd.to_numeric(data['TotalCharges'], errors='coerce')\n",
    "data['TotalCharges'] = data['TotalCharges'].fillna(0)\n",
    "dados_faltantes_tratados = data.isnull().sum()\n",
    "\n",
    "print(\"Informações sobre o Conjunto de Dados:\")\n",
    "print(f\"Origem: Este conjunto de dados foi coletado da {origem}, que atua no setor de telecomunicações.\")\n",
    "print(f\"Nome: {nome}\")\n",
    "print(f\"Tamanho: O conjunto de dados contém {tamanho[0]} registros e {tamanho[1]} colunas.\")\n",
    "print(f\"Quantidade de Registros: Existem {quantidade_registros} registros no conjunto de dados, representando clientes da empresa.\")\n",
    "print(f\"Linhas x Colunas: O conjunto de dados possui {linhas_colunas}.\")\n",
    "\n",
    "print(\"\\nDados Faltantes:\")\n",
    "for coluna, quantidade in dados_faltantes.items():\n",
    "    print(f\"{coluna}: {quantidade} dados faltantes\")\n",
    "\n",
    "print(\"\\nDados Faltantes após tratamento:\")\n",
    "for coluna, quantidade in dados_faltantes_tratados.items():\n",
    "    print(f\"{coluna}: {quantidade} dados faltantes\")\n"
   ]
  },
  {
   "cell_type": "code",
   "execution_count": 409,
   "metadata": {},
   "outputs": [],
   "source": [
    "# Criação de uma variável binária para representar o churn\n",
    "data['Churn'] = data['Churn'].map({'No': 0, 'Yes': 1})"
   ]
  },
  {
   "cell_type": "code",
   "execution_count": 410,
   "metadata": {},
   "outputs": [],
   "source": [
    "\n",
    "selected_columns = ['tenure', 'MonthlyCharges', 'TotalCharges', 'gender', 'SeniorCitizen', 'Partner', 'Dependents',\n",
    "                    'PhoneService', 'MultipleLines', 'InternetService', 'OnlineSecurity', 'OnlineBackup',\n",
    "                    'DeviceProtection', 'TechSupport', 'StreamingTV', 'StreamingMovies', 'Contract', 'PaperlessBilling',\n",
    "                    'PaymentMethod']\n",
    "\n"
   ]
  },
  {
   "cell_type": "code",
   "execution_count": 411,
   "metadata": {},
   "outputs": [],
   "source": [
    "# Preencher os valores ausentes em 'TotalCharges' com zero\n",
    "data['TotalCharges'] = pd.to_numeric(data['TotalCharges'], errors='coerce')\n",
    "data['TotalCharges'] = data['TotalCharges'].fillna(0)"
   ]
  },
  {
   "cell_type": "code",
   "execution_count": 412,
   "metadata": {},
   "outputs": [],
   "source": [
    "# Separar as variáveis independentes (X) e a variável de destino (y)\n",
    "X = data.drop('Churn', axis=1)\n",
    "y = data['Churn']"
   ]
  },
  {
   "cell_type": "code",
   "execution_count": 413,
   "metadata": {},
   "outputs": [],
   "source": [
    "# Realizar o One-Hot Encoding para as variáveis categóricas\n",
    "X = pd.get_dummies(X)"
   ]
  },
  {
   "cell_type": "code",
   "execution_count": 414,
   "metadata": {},
   "outputs": [],
   "source": [
    "# Dividir o conjunto de dados em treinamento e teste\n",
    "X_train, X_test, y_train, y_test = train_test_split(X, y, test_size=0.2, random_state=42)\n"
   ]
  },
  {
   "cell_type": "code",
   "execution_count": 415,
   "metadata": {},
   "outputs": [],
   "source": [
    "# Normalização das variáveis numéricas\n",
    "scaler = StandardScaler()\n",
    "numeric_cols = ['tenure', 'MonthlyCharges', 'TotalCharges']\n",
    "X_train[numeric_cols] = scaler.fit_transform(X_train[numeric_cols])\n",
    "X_test[numeric_cols] = scaler.transform(X_test[numeric_cols])\n"
   ]
  },
  {
   "cell_type": "code",
   "execution_count": 416,
   "metadata": {},
   "outputs": [
    {
     "data": {
      "text/html": [
       "<style>#sk-container-id-20 {color: black;}#sk-container-id-20 pre{padding: 0;}#sk-container-id-20 div.sk-toggleable {background-color: white;}#sk-container-id-20 label.sk-toggleable__label {cursor: pointer;display: block;width: 100%;margin-bottom: 0;padding: 0.3em;box-sizing: border-box;text-align: center;}#sk-container-id-20 label.sk-toggleable__label-arrow:before {content: \"▸\";float: left;margin-right: 0.25em;color: #696969;}#sk-container-id-20 label.sk-toggleable__label-arrow:hover:before {color: black;}#sk-container-id-20 div.sk-estimator:hover label.sk-toggleable__label-arrow:before {color: black;}#sk-container-id-20 div.sk-toggleable__content {max-height: 0;max-width: 0;overflow: hidden;text-align: left;background-color: #f0f8ff;}#sk-container-id-20 div.sk-toggleable__content pre {margin: 0.2em;color: black;border-radius: 0.25em;background-color: #f0f8ff;}#sk-container-id-20 input.sk-toggleable__control:checked~div.sk-toggleable__content {max-height: 200px;max-width: 100%;overflow: auto;}#sk-container-id-20 input.sk-toggleable__control:checked~label.sk-toggleable__label-arrow:before {content: \"▾\";}#sk-container-id-20 div.sk-estimator input.sk-toggleable__control:checked~label.sk-toggleable__label {background-color: #d4ebff;}#sk-container-id-20 div.sk-label input.sk-toggleable__control:checked~label.sk-toggleable__label {background-color: #d4ebff;}#sk-container-id-20 input.sk-hidden--visually {border: 0;clip: rect(1px 1px 1px 1px);clip: rect(1px, 1px, 1px, 1px);height: 1px;margin: -1px;overflow: hidden;padding: 0;position: absolute;width: 1px;}#sk-container-id-20 div.sk-estimator {font-family: monospace;background-color: #f0f8ff;border: 1px dotted black;border-radius: 0.25em;box-sizing: border-box;margin-bottom: 0.5em;}#sk-container-id-20 div.sk-estimator:hover {background-color: #d4ebff;}#sk-container-id-20 div.sk-parallel-item::after {content: \"\";width: 100%;border-bottom: 1px solid gray;flex-grow: 1;}#sk-container-id-20 div.sk-label:hover label.sk-toggleable__label {background-color: #d4ebff;}#sk-container-id-20 div.sk-serial::before {content: \"\";position: absolute;border-left: 1px solid gray;box-sizing: border-box;top: 0;bottom: 0;left: 50%;z-index: 0;}#sk-container-id-20 div.sk-serial {display: flex;flex-direction: column;align-items: center;background-color: white;padding-right: 0.2em;padding-left: 0.2em;position: relative;}#sk-container-id-20 div.sk-item {position: relative;z-index: 1;}#sk-container-id-20 div.sk-parallel {display: flex;align-items: stretch;justify-content: center;background-color: white;position: relative;}#sk-container-id-20 div.sk-item::before, #sk-container-id-20 div.sk-parallel-item::before {content: \"\";position: absolute;border-left: 1px solid gray;box-sizing: border-box;top: 0;bottom: 0;left: 50%;z-index: -1;}#sk-container-id-20 div.sk-parallel-item {display: flex;flex-direction: column;z-index: 1;position: relative;background-color: white;}#sk-container-id-20 div.sk-parallel-item:first-child::after {align-self: flex-end;width: 50%;}#sk-container-id-20 div.sk-parallel-item:last-child::after {align-self: flex-start;width: 50%;}#sk-container-id-20 div.sk-parallel-item:only-child::after {width: 0;}#sk-container-id-20 div.sk-dashed-wrapped {border: 1px dashed gray;margin: 0 0.4em 0.5em 0.4em;box-sizing: border-box;padding-bottom: 0.4em;background-color: white;}#sk-container-id-20 div.sk-label label {font-family: monospace;font-weight: bold;display: inline-block;line-height: 1.2em;}#sk-container-id-20 div.sk-label-container {text-align: center;}#sk-container-id-20 div.sk-container {/* jupyter's `normalize.less` sets `[hidden] { display: none; }` but bootstrap.min.css set `[hidden] { display: none !important; }` so we also need the `!important` here to be able to override the default hidden behavior on the sphinx rendered scikit-learn.org. See: https://github.com/scikit-learn/scikit-learn/issues/21755 */display: inline-block !important;position: relative;}#sk-container-id-20 div.sk-text-repr-fallback {display: none;}</style><div id=\"sk-container-id-20\" class=\"sk-top-container\"><div class=\"sk-text-repr-fallback\"><pre>RandomForestClassifier(random_state=42)</pre><b>In a Jupyter environment, please rerun this cell to show the HTML representation or trust the notebook. <br />On GitHub, the HTML representation is unable to render, please try loading this page with nbviewer.org.</b></div><div class=\"sk-container\" hidden><div class=\"sk-item\"><div class=\"sk-estimator sk-toggleable\"><input class=\"sk-toggleable__control sk-hidden--visually\" id=\"sk-estimator-id-20\" type=\"checkbox\" checked><label for=\"sk-estimator-id-20\" class=\"sk-toggleable__label sk-toggleable__label-arrow\">RandomForestClassifier</label><div class=\"sk-toggleable__content\"><pre>RandomForestClassifier(random_state=42)</pre></div></div></div></div></div>"
      ],
      "text/plain": [
       "RandomForestClassifier(random_state=42)"
      ]
     },
     "execution_count": 416,
     "metadata": {},
     "output_type": "execute_result"
    }
   ],
   "source": [
    "# Treinar o Modelo 1 (usando RandomForestClassifier como exemplo)\n",
    "model1 = RandomForestClassifier(random_state=42)\n",
    "model1.fit(X_train, y_train)"
   ]
  },
  {
   "cell_type": "code",
   "execution_count": 417,
   "metadata": {},
   "outputs": [],
   "source": [
    "# Realizar previsões no conjunto de teste\n",
    "y_pred = model1.predict(X_test)"
   ]
  },
  {
   "cell_type": "code",
   "execution_count": 418,
   "metadata": {},
   "outputs": [],
   "source": [
    "# Calcular as métricas\n",
    "accuracy = accuracy_score(y_test, y_pred)\n",
    "precision = precision_score(y_test, y_pred)\n",
    "recall = recall_score(y_test, y_pred)\n",
    "f1 = f1_score(y_test, y_pred)\n",
    "confusion = confusion_matrix(y_test, y_pred)\n",
    "classification = classification_report(y_test, y_pred)"
   ]
  },
  {
   "cell_type": "code",
   "execution_count": 419,
   "metadata": {},
   "outputs": [
    {
     "name": "stdout",
     "output_type": "stream",
     "text": [
      "Acurácia: 0.7955997161107168\n",
      "Precisão: 0.6693227091633466\n",
      "Recall: 0.450402144772118\n",
      "F1-Score: 0.5384615384615385\n",
      "\n",
      "Acurácia: A acurácia é a proporção de previsões corretas em relação ao total de previsões. No nosso caso, a acurácia é de aproximadamente 0.796, o que significa que o modelo acertou em torno de 79.6% das previsões. Quanto mais próximo de 1, melhor.\n",
      "\n",
      "Precisão: A precisão é a proporção de verdadeiros positivos (Churn previsto corretamente) em relação ao total de Churns previstos como positivos. Neste caso, a precisão é de aproximadamente 0.669. Isso significa que 66.9% das vezes em que o modelo previu 'Churn', ele estava correto. Quanto maior, menos falsos positivos.\n",
      "\n",
      "Recall: O recall é a proporção de verdadeiros positivos em relação ao total de Churns reais. Neste caso, o recall é de aproximadamente 0.450. Isso significa que o modelo identificou corretamente 45% dos casos reais de 'Churn'. Quanto maior, menos falsos negativos.\n",
      "\n",
      "F1-Score: O F1-Score é a média harmônica entre precisão e recall. Neste caso, o F1-Score é de aproximadamente 0.538. Esta métrica considera tanto os falsos positivos quanto os falsos negativos, sendo útil para encontrar um equilíbrio entre precisão e recall.\n"
     ]
    }
   ],
   "source": [
    "# Apresentar as métricas\n",
    "print(\"Acurácia:\", accuracy)\n",
    "print(\"Precisão:\", precision)\n",
    "print(\"Recall:\", recall)\n",
    "print(\"F1-Score:\", f1)\n",
    "\n",
    "# Explicação e Análise das Métricas de Avaliação\n",
    "print(\"\\nAcurácia: A acurácia é a proporção de previsões corretas em relação ao total de previsões. No nosso caso, a acurácia é de aproximadamente 0.796, o que significa que o modelo acertou em torno de 79.6% das previsões. Quanto mais próximo de 1, melhor.\")\n",
    "\n",
    "print(\"\\nPrecisão: A precisão é a proporção de verdadeiros positivos (Churn previsto corretamente) em relação ao total de Churns previstos como positivos. Neste caso, a precisão é de aproximadamente 0.669. Isso significa que 66.9% das vezes em que o modelo previu 'Churn', ele estava correto. Quanto maior, menos falsos positivos.\")\n",
    "\n",
    "print(\"\\nRecall: O recall é a proporção de verdadeiros positivos em relação ao total de Churns reais. Neste caso, o recall é de aproximadamente 0.450. Isso significa que o modelo identificou corretamente 45% dos casos reais de 'Churn'. Quanto maior, menos falsos negativos.\")\n",
    "\n",
    "print(\"\\nF1-Score: O F1-Score é a média harmônica entre precisão e recall. Neste caso, o F1-Score é de aproximadamente 0.538. Esta métrica considera tanto os falsos positivos quanto os falsos negativos, sendo útil para encontrar um equilíbrio entre precisão e recall.\")\n"
   ]
  },
  {
   "cell_type": "code",
   "execution_count": 420,
   "metadata": {},
   "outputs": [
    {
     "data": {
      "image/png": "[encoded data removed]",
      "text/plain": [
       "<Figure size 800x600 with 2 Axes>"
      ]
     },
     "metadata": {},
     "output_type": "display_data"
    },
    {
     "name": "stdout",
     "output_type": "stream",
     "text": [
      "Matriz de Confusão:\n",
      "Previsto Não Churn (VN): 953 casos - Número de casos em que o modelo previu corretamente 'Não Churn'.\n",
      "Previsto Churn (FP): 83 casos - Número de casos em que o modelo previu incorretamente 'Churn' quando era 'Não Churn'.\n",
      "Real Não Churn (VP): 205 casos - Número de casos reais de 'Não Churn' que foram previstos incorretamente como 'Churn'.\n",
      "Real Churn (FN): 168 casos - Número de casos reais de 'Churn' que foram previstos corretamente.\n"
     ]
    }
   ],
   "source": [
    "# Plotar a matriz de confusão\n",
    "plt.figure(figsize=(8, 6))\n",
    "plt.imshow(confusion, interpolation='nearest', cmap=plt.cm.Blues)\n",
    "plt.title(\"Matriz de Confusão\")\n",
    "plt.colorbar()\n",
    "plt.xticks([0, 1], [\"Previsto Não Churn\", \"Previsto Churn\"])\n",
    "plt.yticks([0, 1], [\"Real Não Churn\", \"Real Churn\"])\n",
    "plt.xlabel(\"Predições\")\n",
    "plt.ylabel(\"Real\")\n",
    "plt.show()\n",
    "\n",
    "# Explicação e Análise dos Resultados da Matriz de Confusão\n",
    "print(\"Matriz de Confusão:\")\n",
    "print(\"Previsto Não Churn (VN):\", confusion[0, 0], \"casos - Número de casos em que o modelo previu corretamente 'Não Churn'.\")\n",
    "print(\"Previsto Churn (FP):\", confusion[0, 1], \"casos - Número de casos em que o modelo previu incorretamente 'Churn' quando era 'Não Churn'.\")\n",
    "print(\"Real Não Churn (VP):\", confusion[1, 0], \"casos - Número de casos reais de 'Não Churn' que foram previstos incorretamente como 'Churn'.\")\n",
    "print(\"Real Churn (FN):\", confusion[1, 1], \"casos - Número de casos reais de 'Churn' que foram previstos corretamente.\")\n",
    "\n"
   ]
  },
  {
   "cell_type": "code",
   "execution_count": 421,
   "metadata": {},
   "outputs": [
    {
     "name": "stdout",
     "output_type": "stream",
     "text": [
      "\n",
      "Relatório de Classificação:\n",
      "\n",
      "              precision    recall  f1-score   support\n",
      "\n",
      "           0       0.82      0.92      0.87      1036\n",
      "           1       0.67      0.45      0.54       373\n",
      "\n",
      "    accuracy                           0.80      1409\n",
      "   macro avg       0.75      0.69      0.70      1409\n",
      "weighted avg       0.78      0.80      0.78      1409\n",
      "\n",
      "O relatório de classificação fornece métricas detalhadas para avaliar o desempenho do modelo na previsão de Churn e Não Churn.\n",
      "Precision (Precisão): A precisão mede a proporção de previsões corretas de Churn em relação ao total de previsões de Churn (Churn previsto). Uma precisão alta indica que poucas previsões de Churn são falsas.\n",
      "Recall: O recall, também conhecido como Sensibilidade, mede a proporção de previsões corretas de Churn em relação ao total de Churns reais. Um recall alto indica que o modelo identifica a maioria dos Churns reais.\n",
      "F1-Score: O F1-Score é a média harmônica entre precisão e recall. É útil para equilibrar a precisão e o recall, levando em consideração falsos positivos e falsos negativos.\n",
      "Macro Avg: A média das métricas (precisão, recall, F1-Score) para ambas as classes (Churn e Não Churn).\n",
      "Weighted Avg: Uma média ponderada das métricas para ambas as classes, levando em consideração o suporte (support) de cada classe.\n",
      "\n",
      "Resumo do Relatório:\n",
      "Acurácia (Accuracy): A acurácia do modelo é de aproximadamente 0.80, o que significa que cerca de 80% das previsões estão corretas.\n",
      "Precisão (Precision): A precisão para Churn é de aproximadamente 0.67, o que indica que 67% das previsões de Churn estão corretas.\n",
      "Recall: O recall para Churn é de aproximadamente 0.45, o que significa que o modelo identifica 45% dos Churns reais.\n",
      "F1-Score: O F1-Score para Churn é de aproximadamente 0.54, uma métrica que considera tanto precisão quanto recall.\n"
     ]
    }
   ],
   "source": [
    "# Apresentar o relatório de classificação\n",
    "print(\"\\nRelatório de Classificação:\\n\")\n",
    "print(classification)\n",
    "\n",
    "# Explicação e Análise do Relatório de Classificação\n",
    "print(\"O relatório de classificação fornece métricas detalhadas para avaliar o desempenho do modelo na previsão de Churn e Não Churn.\")\n",
    "\n",
    "print(\"Precision (Precisão): A precisão mede a proporção de previsões corretas de Churn em relação ao total de previsões de Churn (Churn previsto). Uma precisão alta indica que poucas previsões de Churn são falsas.\")\n",
    "\n",
    "print(\"Recall: O recall, também conhecido como Sensibilidade, mede a proporção de previsões corretas de Churn em relação ao total de Churns reais. Um recall alto indica que o modelo identifica a maioria dos Churns reais.\")\n",
    "\n",
    "print(\"F1-Score: O F1-Score é a média harmônica entre precisão e recall. É útil para equilibrar a precisão e o recall, levando em consideração falsos positivos e falsos negativos.\")\n",
    "\n",
    "print(\"Macro Avg: A média das métricas (precisão, recall, F1-Score) para ambas as classes (Churn e Não Churn).\")\n",
    "\n",
    "print(\"Weighted Avg: Uma média ponderada das métricas para ambas as classes, levando em consideração o suporte (support) de cada classe.\")\n",
    "\n",
    "print(\"\\nResumo do Relatório:\")\n",
    "print(\"Acurácia (Accuracy): A acurácia do modelo é de aproximadamente 0.80, o que significa que cerca de 80% das previsões estão corretas.\")\n",
    "print(\"Precisão (Precision): A precisão para Churn é de aproximadamente 0.67, o que indica que 67% das previsões de Churn estão corretas.\")\n",
    "print(\"Recall: O recall para Churn é de aproximadamente 0.45, o que significa que o modelo identifica 45% dos Churns reais.\")\n",
    "print(\"F1-Score: O F1-Score para Churn é de aproximadamente 0.54, uma métrica que considera tanto precisão quanto recall.\")\n"
   ]
  },
  {
   "cell_type": "code",
   "execution_count": 424,
   "metadata": {},
   "outputs": [
    {
     "name": "stdout",
     "output_type": "stream",
     "text": [
      "Conclusão Geral:\n",
      "Com base nas métricas de avaliação, o modelo demonstrou um desempenho satisfatório na previsão de Churn em uma empresa de telecomunicações. A acurácia de aproximadamente 80% indica que o modelo é capaz de fazer previsões precisas na maioria dos casos. Além disso, a precisão de 67% sugere que a maioria das previsões de Churn está correta, minimizando falsos positivos.\n",
      "No entanto, é importante observar que o recall para a classe 'Churn' é de cerca de 45%, o que significa que o modelo não consegue identificar todos os clientes que realmente cancelarão o serviço. Isso pode resultar na perda de alguns clientes em risco de churn. Portanto, aprimoramentos no modelo ou uma coleta de dados mais abrangente podem ser necessários para aprimorar a capacidade de previsão do Churn.\n",
      "Ainda assim, o modelo representa um passo inicial sólido na identificação de clientes em risco de churn, fornecendo à empresa uma oportunidade de adotar medidas proativas para reter seus clientes e melhorar a satisfação geral. É importante considerar que a melhoria contínua do modelo e a análise aprofundada dos resultados podem levar a previsões mais precisas no futuro.\n"
     ]
    }
   ],
   "source": [
    "# Conclusão Geral\n",
    "print(\"Conclusão Geral:\")\n",
    "print(\"Com base nas métricas de avaliação, o modelo demonstrou um desempenho satisfatório na previsão de Churn em uma empresa de telecomunicações. A acurácia de aproximadamente 80% indica que o modelo é capaz de fazer previsões precisas na maioria dos casos. Além disso, a precisão de 67% sugere que a maioria das previsões de Churn está correta, minimizando falsos positivos.\")\n",
    "print(\"No entanto, é importante observar que o recall para a classe 'Churn' é de cerca de 45%, o que significa que o modelo não consegue identificar todos os clientes que realmente cancelarão o serviço. Isso pode resultar na perda de alguns clientes em risco de churn. Portanto, aprimoramentos no modelo ou uma coleta de dados mais abrangente podem ser necessários para aprimorar a capacidade de previsão do Churn.\")\n",
    "print(\"Ainda assim, o modelo representa um passo inicial sólido na identificação de clientes em risco de churn, fornecendo à empresa uma oportunidade de adotar medidas proativas para reter seus clientes e melhorar a satisfação geral. É importante considerar que a melhoria contínua do modelo e a análise aprofundada dos resultados podem levar a previsões mais precisas no futuro.\")\n"
   ]
  }
 ],
 "metadata": {
  "kernelspec": {
   "display_name": "Python 3",
   "language": "python",
   "name": "python3"
  },
  "language_info": {
   "codemirror_mode": {
    "name": "ipython",
    "version": 3
   },
   "file_extension": ".py",
   "mimetype": "text/x-python",
   "name": "python",
   "nbconvert_exporter": "python",
   "pygments_lexer": "ipython3",
   "version": "3.10.10"
  }
 },
 "nbformat": 4,
 "nbformat_minor": 2
}
